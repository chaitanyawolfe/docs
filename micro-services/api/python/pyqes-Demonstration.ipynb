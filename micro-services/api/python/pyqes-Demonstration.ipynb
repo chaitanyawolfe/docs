{
 "cells": [
  {
   "cell_type": "markdown",
   "metadata": {},
   "source": [
    "# Risk Model/Optimization in Python pyqes  "
   ]
  },
  {
   "cell_type": "markdown",
   "metadata": {},
   "source": [
    "File shows simple example of using Risk Model/Optimization API\n",
    "The same usage as our [R API](https://github.com/wolferesearch/docs/blob/master/micro-services/api/R/example/test_micsvc.R)"
   ]
  },
  {
   "cell_type": "code",
   "execution_count": 1,
   "metadata": {
    "collapsed": false
   },
   "outputs": [],
   "source": [
    "# import the package\n",
    "from pyqes import micsvc"
   ]
  },
  {
   "cell_type": "markdown",
   "metadata": {},
   "source": [
    "* Setup a connection object "
   ]
  },
  {
   "cell_type": "code",
   "execution_count": 2,
   "metadata": {
    "collapsed": false
   },
   "outputs": [],
   "source": [
    "connect = micsvc.Connection('hjain', 'hjain123')\n"
   ]
  },
  {
   "cell_type": "markdown",
   "metadata": {},
   "source": [
    "* Get instance of risk model builder"
   ]
  },
  {
   "cell_type": "code",
   "execution_count": 3,
   "metadata": {
    "collapsed": false
   },
   "outputs": [],
   "source": [
    "risk_model_builder = connect.get_risk_model_builder()\n"
   ]
  },
  {
   "cell_type": "code",
   "execution_count": 4,
   "metadata": {
    "collapsed": false
   },
   "outputs": [
    {
     "data": {
      "text/plain": [
       "{'dates': ['2018-01-31',\n",
       "  '2018-02-28',\n",
       "  '2018-03-31',\n",
       "  '2018-04-30',\n",
       "  '2018-05-31',\n",
       "  '2018-06-30',\n",
       "  '2018-07-31',\n",
       "  '2018-08-31',\n",
       "  '2018-09-30',\n",
       "  '2018-10-31',\n",
       "  '2018-11-30',\n",
       "  '2018-12-31'],\n",
       " 'endTime': '\"2019-02-15 18:17:35.189583\"',\n",
       " 'message': 'Job Completed',\n",
       " 'startTime': '\"2019-02-15 18:17:09.112369\"',\n",
       " 'status': 'SUCCESS',\n",
       " 'uuid': '61a2bbda-81cc-49c1-b451-39f9356aa3fa'}"
      ]
     },
     "execution_count": 4,
     "metadata": {},
     "output_type": "execute_result"
    }
   ],
   "source": [
    "risk_model_builder.info()"
   ]
  },
  {
   "cell_type": "markdown",
   "metadata": {},
   "source": [
    "* Submit a new risk model builder request"
   ]
  },
  {
   "cell_type": "code",
   "execution_count": 11,
   "metadata": {
    "collapsed": false
   },
   "outputs": [],
   "source": [
    "risk_model_builder.new_request(universe = 'SP500',\n",
    "                               template = 'default',\n",
    "                               startDate = '2018-01-31',\n",
    "                               endDate = '2018-12-31',\n",
    "                               freq = '1me')\n"
   ]
  },
  {
   "cell_type": "markdown",
   "metadata": {},
   "source": [
    "* Wait for it to finish"
   ]
  },
  {
   "cell_type": "code",
   "execution_count": 13,
   "metadata": {
    "collapsed": false
   },
   "outputs": [],
   "source": [
    "risk_model_builder.wait(max_wait_secs = 600)\n"
   ]
  },
  {
   "cell_type": "markdown",
   "metadata": {},
   "source": [
    "* Download all data to a directory"
   ]
  },
  {
   "cell_type": "code",
   "execution_count": 5,
   "metadata": {
    "collapsed": false
   },
   "outputs": [
    {
     "data": {
      "text/plain": [
       "True"
      ]
     },
     "execution_count": 5,
     "metadata": {},
     "output_type": "execute_result"
    }
   ],
   "source": [
    "risk_model_builder.download_all('QES-Risk-Model-Data')\n"
   ]
  },
  {
   "cell_type": "markdown",
   "metadata": {},
   "source": [
    "### Portfolios & Factors\n",
    "* Uploading the Portfolio"
   ]
  },
  {
   "cell_type": "code",
   "execution_count": 5,
   "metadata": {
    "collapsed": true
   },
   "outputs": [],
   "source": [
    "# using pandas dataframe to check the condition\n",
    "import pandas as pd"
   ]
  },
  {
   "cell_type": "code",
   "execution_count": 6,
   "metadata": {
    "collapsed": false
   },
   "outputs": [],
   "source": [
    "connect.upload_portfolio(id = 'Custom_Port1', filename = 'sample-port.csv')\n"
   ]
  },
  {
   "cell_type": "markdown",
   "metadata": {},
   "source": [
    "* See the uploaded portfolio"
   ]
  },
  {
   "cell_type": "code",
   "execution_count": 7,
   "metadata": {
    "collapsed": true
   },
   "outputs": [],
   "source": [
    "catalog = connect.get_catalog()\n",
    "\n",
    "portfolios = catalog.get_portfolios()"
   ]
  },
  {
   "cell_type": "code",
   "execution_count": 8,
   "metadata": {
    "collapsed": false
   },
   "outputs": [
    {
     "data": {
      "text/html": [
       "<div>\n",
       "<style scoped>\n",
       "    .dataframe tbody tr th:only-of-type {\n",
       "        vertical-align: middle;\n",
       "    }\n",
       "\n",
       "    .dataframe tbody tr th {\n",
       "        vertical-align: top;\n",
       "    }\n",
       "\n",
       "    .dataframe thead th {\n",
       "        text-align: right;\n",
       "    }\n",
       "</style>\n",
       "<table border=\"1\" class=\"dataframe\">\n",
       "  <thead>\n",
       "    <tr style=\"text-align: right;\">\n",
       "      <th></th>\n",
       "      <th>ID</th>\n",
       "      <th>UPLOADEDBY</th>\n",
       "      <th>UPLOADEDTIME</th>\n",
       "    </tr>\n",
       "  </thead>\n",
       "  <tbody>\n",
       "    <tr>\n",
       "      <th>0</th>\n",
       "      <td>Custom_Port</td>\n",
       "      <td>hjain</td>\n",
       "      <td>2019-02-13T00:00:00.000Z</td>\n",
       "    </tr>\n",
       "    <tr>\n",
       "      <th>1</th>\n",
       "      <td>A1A2</td>\n",
       "      <td>hjain</td>\n",
       "      <td>2019-02-13T00:00:00.000Z</td>\n",
       "    </tr>\n",
       "    <tr>\n",
       "      <th>2</th>\n",
       "      <td>hjPortDemo</td>\n",
       "      <td>hjain</td>\n",
       "      <td>2019-01-29T00:00:00.000Z</td>\n",
       "    </tr>\n",
       "    <tr>\n",
       "      <th>3</th>\n",
       "      <td>TrialPort</td>\n",
       "      <td>hjain</td>\n",
       "      <td>2019-01-29T00:00:00.000Z</td>\n",
       "    </tr>\n",
       "    <tr>\n",
       "      <th>4</th>\n",
       "      <td>New_Port___HJ1</td>\n",
       "      <td>hjain</td>\n",
       "      <td>2019-01-23T00:00:00.000Z</td>\n",
       "    </tr>\n",
       "    <tr>\n",
       "      <th>5</th>\n",
       "      <td>New_Port___HJ0</td>\n",
       "      <td>hjain</td>\n",
       "      <td>2019-01-14T00:00:00.000Z</td>\n",
       "    </tr>\n",
       "    <tr>\n",
       "      <th>6</th>\n",
       "      <td>A1_port_20181126</td>\n",
       "      <td>hjain</td>\n",
       "      <td>2018-11-26T00:00:00.000Z</td>\n",
       "    </tr>\n",
       "    <tr>\n",
       "      <th>7</th>\n",
       "      <td>A1_port_20181123</td>\n",
       "      <td>hjain</td>\n",
       "      <td>2018-11-23T00:00:00.000Z</td>\n",
       "    </tr>\n",
       "    <tr>\n",
       "      <th>8</th>\n",
       "      <td>A1_port_20181118</td>\n",
       "      <td>hjain</td>\n",
       "      <td>2018-11-18T00:00:00.000Z</td>\n",
       "    </tr>\n",
       "    <tr>\n",
       "      <th>9</th>\n",
       "      <td>A1_port_20181106</td>\n",
       "      <td>hjain</td>\n",
       "      <td>2018-11-06T00:00:00.000Z</td>\n",
       "    </tr>\n",
       "  </tbody>\n",
       "</table>\n",
       "</div>"
      ],
      "text/plain": [
       "                 ID UPLOADEDBY              UPLOADEDTIME\n",
       "0       Custom_Port      hjain  2019-02-13T00:00:00.000Z\n",
       "1              A1A2      hjain  2019-02-13T00:00:00.000Z\n",
       "2        hjPortDemo      hjain  2019-01-29T00:00:00.000Z\n",
       "3         TrialPort      hjain  2019-01-29T00:00:00.000Z\n",
       "4    New_Port___HJ1      hjain  2019-01-23T00:00:00.000Z\n",
       "5    New_Port___HJ0      hjain  2019-01-14T00:00:00.000Z\n",
       "6  A1_port_20181126      hjain  2018-11-26T00:00:00.000Z\n",
       "7  A1_port_20181123      hjain  2018-11-23T00:00:00.000Z\n",
       "8  A1_port_20181118      hjain  2018-11-18T00:00:00.000Z\n",
       "9  A1_port_20181106      hjain  2018-11-06T00:00:00.000Z"
      ]
     },
     "execution_count": 8,
     "metadata": {},
     "output_type": "execute_result"
    }
   ],
   "source": [
    "pd.DataFrame(portfolios).head(10)"
   ]
  },
  {
   "cell_type": "markdown",
   "metadata": {},
   "source": [
    "* See the new factor"
   ]
  },
  {
   "cell_type": "code",
   "execution_count": 9,
   "metadata": {
    "collapsed": true
   },
   "outputs": [],
   "source": [
    "factors = catalog.get_factors()"
   ]
  },
  {
   "cell_type": "code",
   "execution_count": 10,
   "metadata": {
    "collapsed": false
   },
   "outputs": [
    {
     "data": {
      "text/html": [
       "<div>\n",
       "<style scoped>\n",
       "    .dataframe tbody tr th:only-of-type {\n",
       "        vertical-align: middle;\n",
       "    }\n",
       "\n",
       "    .dataframe tbody tr th {\n",
       "        vertical-align: top;\n",
       "    }\n",
       "\n",
       "    .dataframe thead th {\n",
       "        text-align: right;\n",
       "    }\n",
       "</style>\n",
       "<table border=\"1\" class=\"dataframe\">\n",
       "  <thead>\n",
       "    <tr style=\"text-align: right;\">\n",
       "      <th></th>\n",
       "      <th>CATEGORY</th>\n",
       "      <th>DESCRIPTION</th>\n",
       "      <th>ID</th>\n",
       "      <th>SUBCATEGORY</th>\n",
       "    </tr>\n",
       "  </thead>\n",
       "  <tbody>\n",
       "    <tr>\n",
       "      <th>0</th>\n",
       "      <td>Value</td>\n",
       "      <td>Total yield (dividend + share change)</td>\n",
       "      <td>DIVYLD_BB</td>\n",
       "      <td>Dividend</td>\n",
       "    </tr>\n",
       "    <tr>\n",
       "      <th>1</th>\n",
       "      <td>Value</td>\n",
       "      <td>Operating cash flow yield, FY1</td>\n",
       "      <td>CFOYLD_FY1</td>\n",
       "      <td>Cash flow</td>\n",
       "    </tr>\n",
       "    <tr>\n",
       "      <th>2</th>\n",
       "      <td>Value</td>\n",
       "      <td>Dividend yield, FY1</td>\n",
       "      <td>DIVYLD_FY1</td>\n",
       "      <td>Dividend</td>\n",
       "    </tr>\n",
       "    <tr>\n",
       "      <th>3</th>\n",
       "      <td>Value</td>\n",
       "      <td>Earnings yield, FY1 Median</td>\n",
       "      <td>EPSYLD_FY1</td>\n",
       "      <td>Earnings</td>\n",
       "    </tr>\n",
       "    <tr>\n",
       "      <th>4</th>\n",
       "      <td>Value</td>\n",
       "      <td>Earnings yield, FY2 Median</td>\n",
       "      <td>EPSYLD_FY2</td>\n",
       "      <td>Earnings</td>\n",
       "    </tr>\n",
       "    <tr>\n",
       "      <th>5</th>\n",
       "      <td>Value</td>\n",
       "      <td>Earnings yield (LTM, basic) x 5Y Exp Growth</td>\n",
       "      <td>EPSYLD_GRO</td>\n",
       "      <td>GARP</td>\n",
       "    </tr>\n",
       "    <tr>\n",
       "      <th>6</th>\n",
       "      <td>Value</td>\n",
       "      <td>Earnings yield (LTM, basic) x (5Y Exp Growth +...</td>\n",
       "      <td>EPSYLD_GRO_DIVY</td>\n",
       "      <td>GARP</td>\n",
       "    </tr>\n",
       "    <tr>\n",
       "      <th>7</th>\n",
       "      <td>Value</td>\n",
       "      <td>Earnings yield, NTM Median</td>\n",
       "      <td>EPSYLD_NTM</td>\n",
       "      <td>Earnings</td>\n",
       "    </tr>\n",
       "    <tr>\n",
       "      <th>8</th>\n",
       "      <td>Value</td>\n",
       "      <td>Book-to-market, FY1</td>\n",
       "      <td>BOOKP_FY1</td>\n",
       "      <td>Book</td>\n",
       "    </tr>\n",
       "    <tr>\n",
       "      <th>9</th>\n",
       "      <td>Value</td>\n",
       "      <td>Target price implied return</td>\n",
       "      <td>TP_RTN</td>\n",
       "      <td>Target price</td>\n",
       "    </tr>\n",
       "  </tbody>\n",
       "</table>\n",
       "</div>"
      ],
      "text/plain": [
       "  CATEGORY                                        DESCRIPTION  \\\n",
       "0    Value              Total yield (dividend + share change)   \n",
       "1    Value                     Operating cash flow yield, FY1   \n",
       "2    Value                                Dividend yield, FY1   \n",
       "3    Value                         Earnings yield, FY1 Median   \n",
       "4    Value                         Earnings yield, FY2 Median   \n",
       "5    Value        Earnings yield (LTM, basic) x 5Y Exp Growth   \n",
       "6    Value  Earnings yield (LTM, basic) x (5Y Exp Growth +...   \n",
       "7    Value                         Earnings yield, NTM Median   \n",
       "8    Value                                Book-to-market, FY1   \n",
       "9    Value                        Target price implied return   \n",
       "\n",
       "                ID   SUBCATEGORY  \n",
       "0        DIVYLD_BB      Dividend  \n",
       "1       CFOYLD_FY1     Cash flow  \n",
       "2       DIVYLD_FY1      Dividend  \n",
       "3       EPSYLD_FY1      Earnings  \n",
       "4       EPSYLD_FY2      Earnings  \n",
       "5       EPSYLD_GRO          GARP  \n",
       "6  EPSYLD_GRO_DIVY          GARP  \n",
       "7       EPSYLD_NTM      Earnings  \n",
       "8        BOOKP_FY1          Book  \n",
       "9           TP_RTN  Target price  "
      ]
     },
     "execution_count": 10,
     "metadata": {},
     "output_type": "execute_result"
    }
   ],
   "source": [
    "pd.DataFrame(factors).head(10)"
   ]
  }
 ],
 "metadata": {
  "kernelspec": {
   "display_name": "Python 3",
   "language": "python",
   "name": "python3"
  },
  "language_info": {
   "codemirror_mode": {
    "name": "ipython",
    "version": 3
   },
   "file_extension": ".py",
   "mimetype": "text/x-python",
   "name": "python",
   "nbconvert_exporter": "python",
   "pygments_lexer": "ipython3",
   "version": "3.6.8"
  }
 },
 "nbformat": 4,
 "nbformat_minor": 2
}
