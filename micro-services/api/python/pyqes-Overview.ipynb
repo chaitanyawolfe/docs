{
 "cells": [
  {
   "cell_type": "markdown",
   "metadata": {},
   "source": [
    "# Overview of Python API for QES Micro Service\n",
    "**pyqes.micsvc**:\n",
    "\n",
    "Python package to utilize the API service function\n",
    "* Usage Classes:\n",
    "    - Connection\n",
    "    - Optimizer\n",
    "    - RiskModel\n",
    "    - Catalog\n",
    "* Internal Classes:\n",
    "    - EntityService\n",
    "    - Template\n",
    "    - Base\n",
    "\n",
    "The packge is implemented in line with the [R version](\n",
    "https://github.com/wolferesearch/docs/blob/master/micro-services/api/R/micsvc.R)"
   ]
  },
  {
   "cell_type": "code",
   "execution_count": 1,
   "metadata": {
    "collapsed": true
   },
   "outputs": [],
   "source": [
    "from pyqes import micsvc"
   ]
  },
  {
   "cell_type": "markdown",
   "metadata": {},
   "source": [
    "### Connection Class"
   ]
  },
  {
   "cell_type": "code",
   "execution_count": 2,
   "metadata": {
    "collapsed": true
   },
   "outputs": [],
   "source": [
    "# create a connection object to interact with the server\n",
    "connect = micsvc.Connection('hjain', 'hjain123')"
   ]
  },
  {
   "cell_type": "code",
   "execution_count": 3,
   "metadata": {
    "collapsed": false
   },
   "outputs": [],
   "source": [
    "args_data = {\"alpha\": \"QES_LEAP_1_SCORE\",\"template\" : \"default\",\"portfolio\" : \"SP500\",\n",
    "\"startDate\" : \"2018-09-30\",\"endDate\" : \"2018-12-31\",\n",
    "\"freq\":\"1me\", \"notionalValue\" : 100000000, \"baseCurrency\" : \"USD\",\n",
    "\"riskModel\": {\"universe\": \"SP500\",\"template\" : \"default\"}}"
   ]
  },
  {
   "cell_type": "code",
   "execution_count": 4,
   "metadata": {
    "collapsed": false
   },
   "outputs": [
    {
     "data": {
      "text/plain": [
       "'0218b8c4-b10a-42d9-a1e1-57385d252bf4'"
      ]
     },
     "execution_count": 4,
     "metadata": {},
     "output_type": "execute_result"
    }
   ],
   "source": [
    "# call the service API (svc)\n",
    "uuid = connect.post('optimization', args_data)\n",
    "uuid"
   ]
  },
  {
   "cell_type": "code",
   "execution_count": 5,
   "metadata": {
    "collapsed": false
   },
   "outputs": [
    {
     "data": {
      "text/plain": [
       "{'ENDTIME': 1550183337932.0,\n",
       " 'MESSAGE': 'Error in wq.getdata(req1): Error occurred while running Reason:[ INCORRECT_INPUT ] message: [ End Time [2009-01-01T00:00:00.000Z] cannot be before Start Time [2014-01-01T00:00:00.000Z] ]\\n',\n",
       " 'STARTTIME': Timestamp('2019-02-14 17:28:57.515000'),\n",
       " 'STATUS': 'ERROR',\n",
       " 'TYPEID': 1,\n",
       " 'USER_': 'hjain',\n",
       " 'UUID': '54d0a00b-dfa4-4948-9ac8-de76ecde7890'}"
      ]
     },
     "execution_count": 5,
     "metadata": {},
     "output_type": "execute_result"
    }
   ],
   "source": [
    "# show failed executed API tasks list\n",
    "connect.failed_jobs(1)[0]"
   ]
  },
  {
   "cell_type": "code",
   "execution_count": 6,
   "metadata": {
    "collapsed": false
   },
   "outputs": [
    {
     "data": {
      "text/plain": [
       "{'ENDTIME': 1550258652565.0,\n",
       " 'MESSAGE': 'Job Completed',\n",
       " 'STARTTIME': Timestamp('2019-02-15 14:23:36.371000'),\n",
       " 'STATUS': 'SUCCESS',\n",
       " 'TYPEID': 2,\n",
       " 'USER_': 'hjain',\n",
       " 'UUID': 'ffe34d3e-042c-4037-bdcd-020c3fc72acd'}"
      ]
     },
     "execution_count": 6,
     "metadata": {},
     "output_type": "execute_result"
    }
   ],
   "source": [
    "# show successful executed API tasks list\n",
    "connect.success_jobs(2)[0]"
   ]
  },
  {
   "cell_type": "markdown",
   "metadata": {},
   "source": [
    "### Catalog\n",
    "* universe\n",
    "* factor\n",
    "* meta factor\n",
    "* portfolio\n",
    "* template"
   ]
  },
  {
   "cell_type": "code",
   "execution_count": 8,
   "metadata": {
    "collapsed": false
   },
   "outputs": [],
   "source": [
    "catalog = micsvc.Catalog(connect)"
   ]
  },
  {
   "cell_type": "code",
   "execution_count": 10,
   "metadata": {
    "collapsed": false
   },
   "outputs": [
    {
     "data": {
      "text/plain": [
       "[{'CATEGORY': 'Value',\n",
       "  'DESCRIPTION': 'Total yield (dividend + share change)',\n",
       "  'ID': 'DIVYLD_BB',\n",
       "  'SUBCATEGORY': 'Dividend'},\n",
       " {'CATEGORY': 'Value',\n",
       "  'DESCRIPTION': 'Operating cash flow yield, FY1',\n",
       "  'ID': 'CFOYLD_FY1',\n",
       "  'SUBCATEGORY': 'Cash flow'},\n",
       " {'CATEGORY': 'Value',\n",
       "  'DESCRIPTION': 'Dividend yield, FY1',\n",
       "  'ID': 'DIVYLD_FY1',\n",
       "  'SUBCATEGORY': 'Dividend'},\n",
       " {'CATEGORY': 'Value',\n",
       "  'DESCRIPTION': 'Earnings yield, FY1 Median',\n",
       "  'ID': 'EPSYLD_FY1',\n",
       "  'SUBCATEGORY': 'Earnings'},\n",
       " {'CATEGORY': 'Value',\n",
       "  'DESCRIPTION': 'Earnings yield, FY2 Median',\n",
       "  'ID': 'EPSYLD_FY2',\n",
       "  'SUBCATEGORY': 'Earnings'}]"
      ]
     },
     "execution_count": 10,
     "metadata": {},
     "output_type": "execute_result"
    }
   ],
   "source": [
    "# list of factor (in total 244)\n",
    "catalog.get_factors()[:5]"
   ]
  },
  {
   "cell_type": "code",
   "execution_count": 11,
   "metadata": {
    "collapsed": false
   },
   "outputs": [
    {
     "data": {
      "text/plain": [
       "[{'ID': 'Custom_Port',\n",
       "  'UPLOADEDBY': 'hjain',\n",
       "  'UPLOADEDTIME': '2019-02-13T00:00:00.000Z'},\n",
       " {'ID': 'A1A2',\n",
       "  'UPLOADEDBY': 'hjain',\n",
       "  'UPLOADEDTIME': '2019-02-13T00:00:00.000Z'},\n",
       " {'ID': 'hjPortDemo',\n",
       "  'UPLOADEDBY': 'hjain',\n",
       "  'UPLOADEDTIME': '2019-01-29T00:00:00.000Z'},\n",
       " {'ID': 'TrialPort',\n",
       "  'UPLOADEDBY': 'hjain',\n",
       "  'UPLOADEDTIME': '2019-01-29T00:00:00.000Z'},\n",
       " {'ID': 'New_Port___HJ1',\n",
       "  'UPLOADEDBY': 'hjain',\n",
       "  'UPLOADEDTIME': '2019-01-23T00:00:00.000Z'}]"
      ]
     },
     "execution_count": 11,
     "metadata": {},
     "output_type": "execute_result"
    }
   ],
   "source": [
    "# list of portfolio (in total 244)\n",
    "catalog.get_portfolios()[:5]"
   ]
  },
  {
   "cell_type": "code",
   "execution_count": 12,
   "metadata": {
    "collapsed": false
   },
   "outputs": [
    {
     "data": {
      "text/plain": [
       "[{'CONTENT': {'__name__': 'default',\n",
       "   '__type__': 'ltool.risk.RiskModelBuilder',\n",
       "   'covArgs': {'cov.period': 252,\n",
       "    'expWeight': 'true',\n",
       "    'interval': 3,\n",
       "    'var.period': 84},\n",
       "   'factors': [{'mnemonic': 'EPSYLD_LTM_B', 'name': 'Earnings Yld'},\n",
       "    {'mnemonic': 'GR_INTR_EPS', 'name': 'EPS Growth (YoY)'},\n",
       "    {'mnemonic': 'RTN_12M1M', 'name': 'Momentum (12M-1M)'},\n",
       "    {'mnemonic': 'ES_EPS_NTM_R3M', 'name': 'Revision'},\n",
       "    {'mnemonic': 'ROE', 'name': 'Profitability'},\n",
       "    {'mnemonic': 'REAL_VOL', 'name': 'Volatility'},\n",
       "    {'mnemonic': 'MKTCAP_M_USD', 'name': 'Size (Mkt. Cap)'},\n",
       "    {'mnemonic': 'DIVYLD_TRL', 'name': 'Div Yield'},\n",
       "    {'mnemonic': 'BOOKP', 'name': 'Book to Market'}],\n",
       "   'meta': [{'mnemonic': 'SEDOL', 'name': 'Sedol'},\n",
       "    {'mnemonic': 'TICKER', 'name': 'Ticker'},\n",
       "    {'mnemonic': 'COMPANYNAME', 'name': 'Company Name'},\n",
       "    {'mnemonic': 'QES_GSECTOR', 'name': 'Sector'},\n",
       "    {'mnemonic': 'QES_GGROUP', 'name': 'Industry Group'},\n",
       "    {'mnemonic': 'QES_COUNTRY', 'name': 'Country'},\n",
       "    {'mnemonic': 'CURRENCY', 'name': 'Currency'}],\n",
       "   'options': {'spRisk': {'fn': 'median', 'shrinkage': 0.5}}},\n",
       "  'DESCRIPTION': 'Model uses default set of factors and grouping criteria',\n",
       "  'MODIFIED_DATE': '2019-01-18T16:34:39.000000',\n",
       "  'NAME': 'default',\n",
       "  'OWNER': 'admin',\n",
       "  'TYPE': 'Risk-Model'},\n",
       " {'CONTENT': {'__name__': 'default-euro',\n",
       "   '__type__': 'ltool.risk.RiskModelBuilder',\n",
       "   'covArgs': {'cov.period': 252,\n",
       "    'expWeight': 'true',\n",
       "    'interval': 3,\n",
       "    'var.period': 84},\n",
       "   'factors': [{'mnemonic': 'EPSYLD_LTM_B', 'name': 'Earnings Yld'},\n",
       "    {'mnemonic': 'GR_INTR_EPS', 'name': 'EPS Growth (YoY)'},\n",
       "    {'mnemonic': 'RTN_12M1M', 'name': 'Momentum (12M-1M)'},\n",
       "    {'mnemonic': 'ES_EPS_NTM_R3M', 'name': 'Revision'},\n",
       "    {'mnemonic': 'ROE', 'name': 'Profitability'},\n",
       "    {'mnemonic': 'REAL_VOL', 'name': 'Volatility'},\n",
       "    {'mnemonic': 'MKTCAP_M_USD', 'name': 'Size (Mkt. Cap)'},\n",
       "    {'mnemonic': 'DIVYLD_TRL', 'name': 'Div Yield'},\n",
       "    {'mnemonic': 'BOOKP', 'name': 'Book to Market'}],\n",
       "   'global': {'currency': 'EUR'},\n",
       "   'localMode': 1,\n",
       "   'meta': [{'mnemonic': 'SEDOL', 'name': 'Sedol'},\n",
       "    {'mnemonic': 'TICKER', 'name': 'Ticker'},\n",
       "    {'mnemonic': 'COMPANYNAME', 'name': 'Company Name'},\n",
       "    {'mnemonic': 'QES_GSECTOR', 'name': 'Sector'},\n",
       "    {'mnemonic': 'QES_GGROUP', 'name': 'Industry Group'},\n",
       "    {'mnemonic': 'QES_COUNTRY', 'name': 'Country'},\n",
       "    {'mnemonic': 'CURRENCY', 'name': 'Currency'},\n",
       "    {'mnemonic': 'COMPID', 'name': 'IssuerId'}],\n",
       "   'options': {'model': 'ELT',\n",
       "    'region': 'Europe',\n",
       "    'spRisk': {'fn': 'median', 'shrinkage': 0.5}}},\n",
       "  'DESCRIPTION': 'Model is build for Euro with default currency as Euro',\n",
       "  'MODIFIED_DATE': '2019-02-14T22:25:15.000000',\n",
       "  'NAME': 'default-euro',\n",
       "  'OWNER': 'admin',\n",
       "  'TYPE': 'Risk-Model'},\n",
       " {'CONTENT': {'__name__': 'default3',\n",
       "   '__type__': 'ltool.opt.RiskModelBuilder',\n",
       "   'covArgs': {'cov.period': 252,\n",
       "    'expWeight': 'true',\n",
       "    'interval': 3,\n",
       "    'var.period': 84},\n",
       "   'factors': [{'mnemonic': 'EPSYLD_LTM_B', 'name': 'Earnings Yld'},\n",
       "    {'mnemonic': 'GR_INTR_EPS', 'name': 'EPS Growth (YoY)'},\n",
       "    {'mnemonic': 'RTN_12M1M', 'name': 'Momentum (12M-1M)'},\n",
       "    {'mnemonic': 'ES_EPS_NTM_R3M', 'name': 'Revision'},\n",
       "    {'mnemonic': 'ROE', 'name': 'Profitability'},\n",
       "    {'mnemonic': 'REAL_VOL', 'name': 'Volatility'},\n",
       "    {'mnemonic': 'MKTCAP_M_USD', 'name': 'Size (Mkt. Cap)'},\n",
       "    {'mnemonic': 'DIVYLD_TRL', 'name': 'Div Yield'},\n",
       "    {'mnemonic': 'BOOKP', 'name': 'Book to Market'}],\n",
       "   'meta': [{'mnemonic': 'SEDOL', 'name': 'Sedol'},\n",
       "    {'mnemonic': 'TICKER', 'name': 'Ticker'},\n",
       "    {'mnemonic': 'COMPANYNAME', 'name': 'Company Name'},\n",
       "    {'mnemonic': 'QES_GSECTOR', 'name': 'Sector'},\n",
       "    {'mnemonic': 'QES_GGROUP', 'name': 'Industry Group'},\n",
       "    {'mnemonic': 'QES_COUNTRY', 'name': 'Country'},\n",
       "    {'mnemonic': 'CURRENCY', 'name': 'Currency'}],\n",
       "   'options': {'spRisk': {'fn': 'median', 'shrinkage': 0.5}}},\n",
       "  'DESCRIPTION': 'default3',\n",
       "  'MODIFIED_DATE': '2019-01-29T23:28:00.000000',\n",
       "  'NAME': 'default3',\n",
       "  'OWNER': 'hjain',\n",
       "  'TYPE': 'Risk-Model'},\n",
       " {'CONTENT': {'__name__': 'default-hj1',\n",
       "   '__type__': 'ltool.risk.RiskModelBuilder',\n",
       "   'covArgs': {'cov.period': 252,\n",
       "    'expWeight': 'true',\n",
       "    'interval': 4,\n",
       "    'var.period': 90},\n",
       "   'factors': [{'mnemonic': 'EPSYLD_LTM_B', 'name': 'Earnings Yld'},\n",
       "    {'mnemonic': 'GR_INTR_EPS', 'name': 'EPS Growth (YoY)'},\n",
       "    {'mnemonic': 'RTN_12M1M', 'name': 'Momentum (12M-1M)'},\n",
       "    {'mnemonic': 'MKTCAP_M_USD', 'name': 'Size (Mkt. Cap)'},\n",
       "    {'mnemonic': 'DIVYLD_TRL', 'name': 'Div Yield'},\n",
       "    {'mnemonic': 'BOOKP', 'name': 'Book to Market'}],\n",
       "   'meta': [{'mnemonic': 'SEDOL', 'name': 'Sedol'},\n",
       "    {'mnemonic': 'TICKER', 'name': 'Ticker'},\n",
       "    {'mnemonic': 'COMPANYNAME', 'name': 'Company Name'},\n",
       "    {'mnemonic': 'QES_GGROUP', 'name': 'Industry Group'},\n",
       "    {'mnemonic': 'QES_COUNTRY', 'name': 'Country'},\n",
       "    {'mnemonic': 'CURRENCY', 'name': 'Currency'}],\n",
       "   'options': {'spRisk': {'fn': 'mean', 'shrinkage': 0.6}}},\n",
       "  'DESCRIPTION': 'default-hj1',\n",
       "  'MODIFIED_DATE': '2019-01-17T22:51:04.000000',\n",
       "  'NAME': 'default-hj1',\n",
       "  'OWNER': 'hjain',\n",
       "  'TYPE': 'Risk-Model'},\n",
       " {'CONTENT': {'__name__': 'default37',\n",
       "   '__type__': 'ltool.opt.RiskModelBuilder',\n",
       "   'covArgs': {'cov.period': 252,\n",
       "    'expWeight': 'true',\n",
       "    'interval': 3,\n",
       "    'var.period': 84},\n",
       "   'factors': [{'mnemonic': 'EPSYLD_LTM_B', 'name': 'Earnings Yld'},\n",
       "    {'mnemonic': 'GR_INTR_EPS', 'name': 'EPS Growth (YoY)'},\n",
       "    {'mnemonic': 'RTN_12M1M', 'name': 'Momentum (12M-1M)'},\n",
       "    {'mnemonic': 'ES_EPS_NTM_R3M', 'name': 'Revision'},\n",
       "    {'mnemonic': 'ROE', 'name': 'Profitability'},\n",
       "    {'mnemonic': 'REAL_VOL', 'name': 'Volatility'},\n",
       "    {'mnemonic': 'MKTCAP_M_USD', 'name': 'Size (Mkt. Cap)'},\n",
       "    {'mnemonic': 'DIVYLD_TRL', 'name': 'Div Yield'},\n",
       "    {'mnemonic': 'BOOKP', 'name': 'Book to Market'}],\n",
       "   'meta': [{'mnemonic': 'SEDOL', 'name': 'Sedol'},\n",
       "    {'mnemonic': 'TICKER', 'name': 'Ticker'},\n",
       "    {'mnemonic': 'COMPANYNAME', 'name': 'Company Name'},\n",
       "    {'mnemonic': 'QES_GSECTOR', 'name': 'Sector'},\n",
       "    {'mnemonic': 'QES_GGROUP', 'name': 'Industry Group'},\n",
       "    {'mnemonic': 'QES_COUNTRY', 'name': 'Country'},\n",
       "    {'mnemonic': 'CURRENCY', 'name': 'Currency'}],\n",
       "   'options': {'spRisk': {'fn': 'median', 'shrinkage': 0.5}}},\n",
       "  'DESCRIPTION': 'default37',\n",
       "  'MODIFIED_DATE': '2019-01-29T23:28:19.000000',\n",
       "  'NAME': 'default37',\n",
       "  'OWNER': 'hjain',\n",
       "  'TYPE': 'Risk-Model'},\n",
       " {'CONTENT': {'__name__': 'default',\n",
       "   '__type__': 'ltool.risk.RiskModelBuilder',\n",
       "   'covArgs': {'cov.period': 252,\n",
       "    'expWeight': 'true',\n",
       "    'interval': 3,\n",
       "    'var.period': 84},\n",
       "   'factors': [{'mnemonic': 'EPSYLD_LTM_B', 'name': 'Earnings Yld'},\n",
       "    {'mnemonic': 'GR_INTR_EPS', 'name': 'EPS Growth (YoY)'},\n",
       "    {'mnemonic': 'RTN_12M1M', 'name': 'Momentum (12M-1M)'},\n",
       "    {'mnemonic': 'ES_EPS_NTM_R3M', 'name': 'Revision'},\n",
       "    {'mnemonic': 'ROE', 'name': 'Profitability'},\n",
       "    {'mnemonic': 'REAL_VOL', 'name': 'Volatility'},\n",
       "    {'mnemonic': 'MKTCAP_M_USD', 'name': 'Size (Mkt. Cap)'},\n",
       "    {'mnemonic': 'DIVYLD_TRL', 'name': 'Div Yield'},\n",
       "    {'mnemonic': 'BOOKP', 'name': 'Book to Market'}],\n",
       "   'meta': [{'mnemonic': 'SEDOL', 'name': 'Sedol'},\n",
       "    {'mnemonic': 'TICKER', 'name': 'Ticker'},\n",
       "    {'mnemonic': 'COMPANYNAME', 'name': 'Company Name'},\n",
       "    {'mnemonic': 'QES_GSECTOR', 'name': 'Sector'},\n",
       "    {'mnemonic': 'QES_GGROUP', 'name': 'Industry Group'},\n",
       "    {'mnemonic': 'QES_COUNTRY', 'name': 'Country'},\n",
       "    {'mnemonic': 'CURRENCY', 'name': 'Currency'}],\n",
       "   'options': {'spRisk': {'fn': 'median', 'shrinkage': 0.5}}},\n",
       "  'DESCRIPTION': 'default',\n",
       "  'MODIFIED_DATE': '2019-01-18T16:40:33.000000',\n",
       "  'NAME': 'default',\n",
       "  'OWNER': 'hjain',\n",
       "  'TYPE': 'Risk-Model'},\n",
       " {'CONTENT': {'__name__': 'default',\n",
       "   '__type__': 'ltool.opt.Optimizer',\n",
       "   'bound': [-0.05, 0.05],\n",
       "   'gross_weight': 2.0,\n",
       "   'max_ADV_participation': 0.05,\n",
       "   'max_turnover': 1.5,\n",
       "   'net_weight': 0.0,\n",
       "   'objective': 'maxAlpha',\n",
       "   'target_risk': 0.4},\n",
       "  'DESCRIPTION': 'Model uses default optimization',\n",
       "  'MODIFIED_DATE': '2019-01-18T16:32:50.000000',\n",
       "  'NAME': 'default',\n",
       "  'OWNER': 'admin',\n",
       "  'TYPE': 'Optimization'},\n",
       " {'CONTENT': {'__name__': 'default',\n",
       "   '__type__': 'ltool.opt.Optimizer',\n",
       "   'benchmark': {'index': 'SP500', 'weight_factor': 'FLOAT'},\n",
       "   'bound': [-0.05, 0.05],\n",
       "   'gross_weight': 1.6,\n",
       "   'max_ADV_participation': 0.05,\n",
       "   'max_turnover': 1.5,\n",
       "   'net_weight': 1.0,\n",
       "   'objective': 'maxAlpha',\n",
       "   'relative_weights': 0.02,\n",
       "   'target_risk': 0.4},\n",
       "  'DESCRIPTION': 'Model uses default optimization',\n",
       "  'MODIFIED_DATE': '2019-01-07T17:00:48.000000',\n",
       "  'NAME': 'default130-30',\n",
       "  'OWNER': 'admin',\n",
       "  'TYPE': 'Optimization'}]"
      ]
     },
     "execution_count": 12,
     "metadata": {},
     "output_type": "execute_result"
    }
   ],
   "source": [
    "# list of argument templates \n",
    "catalog.get_templates()"
   ]
  },
  {
   "cell_type": "markdown",
   "metadata": {
    "collapsed": true
   },
   "source": [
    "### EntityService Class\n",
    "manage for the service"
   ]
  },
  {
   "cell_type": "code",
   "execution_count": 14,
   "metadata": {
    "collapsed": false
   },
   "outputs": [],
   "source": [
    "entity = micsvc.EntityService(connect, 'optimization', uuid)"
   ]
  },
  {
   "cell_type": "code",
   "execution_count": 19,
   "metadata": {
    "collapsed": false
   },
   "outputs": [
    {
     "data": {
      "text/plain": [
       "{'endTime': '\"2019-02-15 20:06:01.908691\"',\n",
       " 'files': ['Summary.csv', 'Weights.csv'],\n",
       " 'message': 'Job Completed',\n",
       " 'startTime': '\"2019-02-15 20:05:27.576953\"',\n",
       " 'status': 'SUCCESS',\n",
       " 'uuid': '0218b8c4-b10a-42d9-a1e1-57385d252bf4'}"
      ]
     },
     "execution_count": 19,
     "metadata": {},
     "output_type": "execute_result"
    }
   ],
   "source": [
    "entity.info()"
   ]
  },
  {
   "cell_type": "code",
   "execution_count": 18,
   "metadata": {
    "collapsed": false
   },
   "outputs": [
    {
     "data": {
      "text/html": [
       "<div>\n",
       "<style scoped>\n",
       "    .dataframe tbody tr th:only-of-type {\n",
       "        vertical-align: middle;\n",
       "    }\n",
       "\n",
       "    .dataframe tbody tr th {\n",
       "        vertical-align: top;\n",
       "    }\n",
       "\n",
       "    .dataframe thead th {\n",
       "        text-align: right;\n",
       "    }\n",
       "</style>\n",
       "<table border=\"1\" class=\"dataframe\">\n",
       "  <thead>\n",
       "    <tr style=\"text-align: right;\">\n",
       "      <th></th>\n",
       "      <th>DATE</th>\n",
       "      <th>ID</th>\n",
       "      <th>Sedol</th>\n",
       "      <th>Ticker</th>\n",
       "      <th>Company Name</th>\n",
       "      <th>Sector</th>\n",
       "      <th>Industry Group</th>\n",
       "      <th>Country</th>\n",
       "      <th>Currency</th>\n",
       "      <th>WEIGHT</th>\n",
       "    </tr>\n",
       "  </thead>\n",
       "  <tbody>\n",
       "    <tr>\n",
       "      <th>1</th>\n",
       "      <td>\"2018-09-30\"</td>\n",
       "      <td>\"K9RQE6VQGZ\"</td>\n",
       "      <td>\"BCV7KT2\"</td>\n",
       "      <td>\"AAL\"</td>\n",
       "      <td>\"American Airlines Group Inc\"</td>\n",
       "      <td>\"20\"</td>\n",
       "      <td>\"2030\"</td>\n",
       "      <td>\"US\"</td>\n",
       "      <td>\"160\"</td>\n",
       "      <td>\"-0.0499999954350129\"</td>\n",
       "    </tr>\n",
       "    <tr>\n",
       "      <th>2</th>\n",
       "      <td>\"2018-09-30\"</td>\n",
       "      <td>\"04M5J6K6G4\"</td>\n",
       "      <td>\"2048804\"</td>\n",
       "      <td>\"PNW\"</td>\n",
       "      <td>\"Pinnacle West Capital Corp\"</td>\n",
       "      <td>\"55\"</td>\n",
       "      <td>\"5510\"</td>\n",
       "      <td>\"US\"</td>\n",
       "      <td>\"160\"</td>\n",
       "      <td>\"0\"</td>\n",
       "    </tr>\n",
       "    <tr>\n",
       "      <th>3</th>\n",
       "      <td>\"2018-09-30\"</td>\n",
       "      <td>\"04M5JN8NG4\"</td>\n",
       "      <td>\"2002305\"</td>\n",
       "      <td>\"ABT\"</td>\n",
       "      <td>\"Abbott Laboratories\"</td>\n",
       "      <td>\"35\"</td>\n",
       "      <td>\"3510\"</td>\n",
       "      <td>\"US\"</td>\n",
       "      <td>\"160\"</td>\n",
       "      <td>\"0\"</td>\n",
       "    </tr>\n",
       "    <tr>\n",
       "      <th>4</th>\n",
       "      <td>\"2018-09-30\"</td>\n",
       "      <td>\"04M5O1EOK4\"</td>\n",
       "      <td>\"2007849\"</td>\n",
       "      <td>\"AMD\"</td>\n",
       "      <td>\"Advanced Micro Devices Inc\"</td>\n",
       "      <td>\"45\"</td>\n",
       "      <td>\"4530\"</td>\n",
       "      <td>\"US\"</td>\n",
       "      <td>\"160\"</td>\n",
       "      <td>\"0\"</td>\n",
       "    </tr>\n",
       "    <tr>\n",
       "      <th>5</th>\n",
       "      <td>\"2018-09-30\"</td>\n",
       "      <td>\"04M5NNORG4\"</td>\n",
       "      <td>\"2695921\"</td>\n",
       "      <td>\"AET\"</td>\n",
       "      <td>\"Aetna Inc.\"</td>\n",
       "      <td>\"35\"</td>\n",
       "      <td>\"3510\"</td>\n",
       "      <td>\"US\"</td>\n",
       "      <td>\"160\"</td>\n",
       "      <td>\"0\"</td>\n",
       "    </tr>\n",
       "    <tr>\n",
       "      <th>6</th>\n",
       "      <td>\"2018-09-30\"</td>\n",
       "      <td>\"04M5YO72K4\"</td>\n",
       "      <td>\"2011602\"</td>\n",
       "      <td>\"APD\"</td>\n",
       "      <td>\"Air Products and Chemicals Inc.\"</td>\n",
       "      <td>\"15\"</td>\n",
       "      <td>\"1510\"</td>\n",
       "      <td>\"US\"</td>\n",
       "      <td>\"160\"</td>\n",
       "      <td>\"0.0499999965486434\"</td>\n",
       "    </tr>\n",
       "    <tr>\n",
       "      <th>7</th>\n",
       "      <td>\"2018-09-30\"</td>\n",
       "      <td>\"04M5752JK4\"</td>\n",
       "      <td>\"2012605\"</td>\n",
       "      <td>\"ALK\"</td>\n",
       "      <td>\"Alaska Air Group Inc.\"</td>\n",
       "      <td>\"20\"</td>\n",
       "      <td>\"2030\"</td>\n",
       "      <td>\"US\"</td>\n",
       "      <td>\"160\"</td>\n",
       "      <td>\"0\"</td>\n",
       "    </tr>\n",
       "    <tr>\n",
       "      <th>8</th>\n",
       "      <td>\"2018-09-30\"</td>\n",
       "      <td>\"04M5KM6KG4\"</td>\n",
       "      <td>\"2020459\"</td>\n",
       "      <td>\"HON\"</td>\n",
       "      <td>\"Honeywell International Inc\"</td>\n",
       "      <td>\"20\"</td>\n",
       "      <td>\"2010\"</td>\n",
       "      <td>\"US\"</td>\n",
       "      <td>\"160\"</td>\n",
       "      <td>\"0\"</td>\n",
       "    </tr>\n",
       "    <tr>\n",
       "      <th>9</th>\n",
       "      <td>\"2018-09-30\"</td>\n",
       "      <td>\"04M5K1Q6G4\"</td>\n",
       "      <td>\"2961053\"</td>\n",
       "      <td>\"SWKS\"</td>\n",
       "      <td>\"Skyworks Solutions Inc\"</td>\n",
       "      <td>\"45\"</td>\n",
       "      <td>\"4530\"</td>\n",
       "      <td>\"US\"</td>\n",
       "      <td>\"160\"</td>\n",
       "      <td>\"0\"</td>\n",
       "    </tr>\n",
       "    <tr>\n",
       "      <th>10</th>\n",
       "      <td>\"2018-09-30\"</td>\n",
       "      <td>\"04M5PLVYK4\"</td>\n",
       "      <td>\"2023748\"</td>\n",
       "      <td>\"HES\"</td>\n",
       "      <td>\"Hess Corp\"</td>\n",
       "      <td>\"10\"</td>\n",
       "      <td>\"1010\"</td>\n",
       "      <td>\"US\"</td>\n",
       "      <td>\"160\"</td>\n",
       "      <td>\"0\"</td>\n",
       "    </tr>\n",
       "  </tbody>\n",
       "</table>\n",
       "</div>"
      ],
      "text/plain": [
       "            DATE            ID      Sedol  Ticker  \\\n",
       "1   \"2018-09-30\"  \"K9RQE6VQGZ\"  \"BCV7KT2\"   \"AAL\"   \n",
       "2   \"2018-09-30\"  \"04M5J6K6G4\"  \"2048804\"   \"PNW\"   \n",
       "3   \"2018-09-30\"  \"04M5JN8NG4\"  \"2002305\"   \"ABT\"   \n",
       "4   \"2018-09-30\"  \"04M5O1EOK4\"  \"2007849\"   \"AMD\"   \n",
       "5   \"2018-09-30\"  \"04M5NNORG4\"  \"2695921\"   \"AET\"   \n",
       "6   \"2018-09-30\"  \"04M5YO72K4\"  \"2011602\"   \"APD\"   \n",
       "7   \"2018-09-30\"  \"04M5752JK4\"  \"2012605\"   \"ALK\"   \n",
       "8   \"2018-09-30\"  \"04M5KM6KG4\"  \"2020459\"   \"HON\"   \n",
       "9   \"2018-09-30\"  \"04M5K1Q6G4\"  \"2961053\"  \"SWKS\"   \n",
       "10  \"2018-09-30\"  \"04M5PLVYK4\"  \"2023748\"   \"HES\"   \n",
       "\n",
       "                         Company Name Sector Industry Group Country Currency  \\\n",
       "1       \"American Airlines Group Inc\"   \"20\"         \"2030\"    \"US\"    \"160\"   \n",
       "2        \"Pinnacle West Capital Corp\"   \"55\"         \"5510\"    \"US\"    \"160\"   \n",
       "3               \"Abbott Laboratories\"   \"35\"         \"3510\"    \"US\"    \"160\"   \n",
       "4        \"Advanced Micro Devices Inc\"   \"45\"         \"4530\"    \"US\"    \"160\"   \n",
       "5                        \"Aetna Inc.\"   \"35\"         \"3510\"    \"US\"    \"160\"   \n",
       "6   \"Air Products and Chemicals Inc.\"   \"15\"         \"1510\"    \"US\"    \"160\"   \n",
       "7             \"Alaska Air Group Inc.\"   \"20\"         \"2030\"    \"US\"    \"160\"   \n",
       "8       \"Honeywell International Inc\"   \"20\"         \"2010\"    \"US\"    \"160\"   \n",
       "9            \"Skyworks Solutions Inc\"   \"45\"         \"4530\"    \"US\"    \"160\"   \n",
       "10                        \"Hess Corp\"   \"10\"         \"1010\"    \"US\"    \"160\"   \n",
       "\n",
       "                   WEIGHT  \n",
       "1   \"-0.0499999954350129\"  \n",
       "2                     \"0\"  \n",
       "3                     \"0\"  \n",
       "4                     \"0\"  \n",
       "5                     \"0\"  \n",
       "6    \"0.0499999965486434\"  \n",
       "7                     \"0\"  \n",
       "8                     \"0\"  \n",
       "9                     \"0\"  \n",
       "10                    \"0\"  "
      ]
     },
     "execution_count": 18,
     "metadata": {},
     "output_type": "execute_result"
    }
   ],
   "source": [
    "# check the data\n",
    "entity.getdf('Weights.csv').head(10)"
   ]
  }
 ],
 "metadata": {
  "kernelspec": {
   "display_name": "Python 3",
   "language": "python",
   "name": "python3"
  },
  "language_info": {
   "codemirror_mode": {
    "name": "ipython",
    "version": 3
   },
   "file_extension": ".py",
   "mimetype": "text/x-python",
   "name": "python",
   "nbconvert_exporter": "python",
   "pygments_lexer": "ipython3",
   "version": "3.6.8"
  }
 },
 "nbformat": 4,
 "nbformat_minor": 2
}
